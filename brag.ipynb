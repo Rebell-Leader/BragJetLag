{
 "cells": [
  {
   "cell_type": "markdown",
   "metadata": {},
   "source": [
    "This demo notebook demonstrates the SleepWell bot from the LLM side - user information, flight info search and notification scheduling is emulated"
   ]
  },
  {
   "cell_type": "markdown",
   "metadata": {},
   "source": [
    "Imports"
   ]
  },
  {
   "cell_type": "code",
   "execution_count": 27,
   "metadata": {},
   "outputs": [],
   "source": [
    "from langchain_core.tools import tool\n",
    "from langchain_openai import ChatOpenAI\n",
    "from langgraph.prebuilt import create_react_agent\n",
    "from langchain_core.messages import SystemMessage\n",
    "from langgraph.checkpoint import MemorySaver"
   ]
  },
  {
   "cell_type": "markdown",
   "metadata": {},
   "source": [
    "Set up the openAI connection"
   ]
  },
  {
   "cell_type": "code",
   "execution_count": 19,
   "metadata": {},
   "outputs": [],
   "source": [
    "openai_api_key=\"sk-000000000000000000000000000000000000\""
   ]
  },
  {
   "cell_type": "code",
   "execution_count": null,
   "metadata": {},
   "outputs": [],
   "source": [
    "# def flight_info_tool(flight_number):\n",
    "#     return get_flight_info(flight_number)\n",
    "\n",
    "# def schedule_alert_tool(user_id, message, alert_time):\n",
    "#     return schedule_alert(user_id, message, alert_time)"
   ]
  },
  {
   "cell_type": "markdown",
   "metadata": {},
   "source": [
    "Create tools"
   ]
  },
  {
   "cell_type": "markdown",
   "metadata": {},
   "source": [
    "Flight API retrieves the date, time, and location (from/to) of the flight"
   ]
  },
  {
   "cell_type": "code",
   "execution_count": null,
   "metadata": {},
   "outputs": [],
   "source": [
    "# from FlightRadar24 import FlightRadar24API\n",
    "# fr_api = FlightRadar24API()"
   ]
  },
  {
   "cell_type": "code",
   "execution_count": 3,
   "metadata": {},
   "outputs": [],
   "source": [
    "@tool\n",
    "def flight_info_tool(flight_id: str) -> str:\n",
    "    '''GetFlightInfo - Use this tool to search for the flight information by flight ID'''\n",
    "    return 'None'"
   ]
  },
  {
   "cell_type": "code",
   "execution_count": 4,
   "metadata": {},
   "outputs": [],
   "source": [
    "@tool\n",
    "def schedule_message_tool(user_id: str, msg: str, send_datetime: str) -> str:\n",
    "    '''ScheduleAlert - Use this tool to send the message to a user in a particular time'''\n",
    "    #schedule the message and also add to db table\n",
    "    print(f'Planning to send the MSG {msg} to user {user_id} on {send_datetime}')\n",
    "    return 'All set'"
   ]
  },
  {
   "cell_type": "code",
   "execution_count": 20,
   "metadata": {},
   "outputs": [],
   "source": [
    "\n",
    "tools = [flight_info_tool, schedule_message_tool]"
   ]
  },
  {
   "cell_type": "markdown",
   "metadata": {},
   "source": [
    "Define agent"
   ]
  },
  {
   "cell_type": "code",
   "execution_count": 25,
   "metadata": {},
   "outputs": [],
   "source": [
    "SYSTEM_PROMPT = '''You are an expert in designing personalized, science-backed sleep and circadian protocols.\n",
    "Your goal is to create a detailed, tailored plan that addresses an individual's chronotype and preferences,\n",
    "with the aim of enhancing their sleep quality and daytime alertness for dealing with jet lag. Your recommendations\n",
    "should be actionable and time-specific. You need to develop the recommendations for User to follow, and plan to send them in an appropriate time (like a reminder to go to sleep in time, or take melatonin 30 minutes before sleeping), using the provided Tools.\n",
    "You must use tool \"GetFlightInfo\" (flight_info_tool tool name), to search for the flight by the flight number provided by User. If nothing is found, just ask the User about the departure and arrival time and locations (remember about the different timezones!).\n",
    "You also have to use the tool called ScheduleAlert (schedule_message_tool tool name) to schedule the messages for the user, for the particular time.\n",
    "For your convenience, you will see the list of entities from the dialog history, and some info about the user, as well as the recommendation example for another user.\n",
    "'''\n",
    "\n",
    "\n",
    "USER_PROMPT = \"\"\"Based on the provided circadian assessment (user's personal assessment), generate recommendations \\\n",
    "that are targeting melatonin, caffeine, physical activity, light exposure, sleep onset and offset timing.\n",
    "\"\"\"\n",
    "suffix = \"\"\"Begin the dialog with the user\"\n",
    "Entities from the dialog: {entities}\n",
    "Question: {input}\n",
    "User info: {user_info}\n",
    "Recommendation example: {recommendation_example}\n",
    "{agent_scratchpad}\"\"\"\n",
    "\n",
    "recommendation_example = '''Hi {Name}, for your flight from {origin} to {destination} on {date}, \\\n",
    "    here is my recommendations for optimizing your sleep and alertness for today:\n",
    "🌞 Take 0.5mg melatonin at 10:30pm to help advance your sleep onset\n",
    "☕ Avoid caffeine after 3pm\n",
    "🌇 Get outdoor light exposure in the morning to help anchor your circadian clock\n",
    "🚶‍♂️ Do some light exercise like walking between 5-7pm\n",
    "\n",
    "This gradual adjustment shifts the sleep-wake cycle ahead before your trip.'''\n",
    "\n",
    "user_info = '''What is your name?\tWhat is your number? This way I can communicate tips to you.\tWhat is your age?\tWhich problems do you have related to sleep, if any?\tWhat have you used to improve your sleep?\tWhat is your typical bed time and wake-up time *on weekdays*?\tWhat is your typical bed time and wake-up time *on weekends*?\tDuring the past month, how long does it typically take you to fall asleep after going to bed (in min)?\tHow many hours of sleep do you typically get per night (in hours)?\tDo you experience difficulty waking up in the morning, even after getting enough sleep?\tDo you consider yourself a “morning person” or a “night owl”?\tDo you need an alarm to wake up on most days? \tHow long after waking up does it typically take you to feel fully alert and focused? \tWhen do you feel most alert and productive?\tWhen do you prefer engaging in mentally demanding activities (like analysis, writing, coding)?\n",
    "Kevin\t+14157875337\t35\tExcessive daytime sleepiness, Difficulty waking up or getting out of bed\tSupplements (e.g. melatonin), Changing surroundings (e.g. sleep mask, blackout curtains), Mindfulness and meditation, Exercise\t1 am - 8 am\t2 am - 10 am\t15\t8\tЛОЖЬ\tNight Owl\tИСТИНА\t30 min to 1h\tEvening\tMorning, Evening'''\n",
    "\n",
    "\n",
    "#non-authorized\n",
    "welcome_message = '''Welcome to the {bot name}! 🌙 It seems you're not registered yet. Complete our circadian \\\n",
    "    assessment to get recommendations that align with your internal clocks! Here is the link: https://form.typeform.com/to/Wv8KDBuG'''\n"
   ]
  },
  {
   "cell_type": "code",
   "execution_count": 28,
   "metadata": {},
   "outputs": [],
   "source": [
    "memory = MemorySaver()"
   ]
  },
  {
   "cell_type": "code",
   "execution_count": 29,
   "metadata": {},
   "outputs": [],
   "source": [
    "formed_system_prompt = f'{SYSTEM_PROMPT} \\n {USER_PROMPT} \\n {suffix} \\n Recommendation example: {recommendation_example} \\n User info: {user_info}'"
   ]
  },
  {
   "cell_type": "code",
   "execution_count": 31,
   "metadata": {},
   "outputs": [],
   "source": [
    "model = ChatOpenAI(temperature=1, openai_api_key=openai_api_key, model=\"gpt-4o\")\n",
    "\n",
    "app = create_react_agent(model, tools, messages_modifier=formed_system_prompt, checkpointer=memory)"
   ]
  },
  {
   "cell_type": "code",
   "execution_count": 32,
   "metadata": {},
   "outputs": [],
   "source": [
    "input = 'Hello! I am flying from NYC to Toronto, departure is tomorrow at 06:30, and arrival is at 14:10'\n"
   ]
  },
  {
   "cell_type": "code",
   "execution_count": 34,
   "metadata": {},
   "outputs": [],
   "source": [
    "config = {\"configurable\": {\"thread_id\": \"test-thread\"}}\n"
   ]
  },
  {
   "cell_type": "code",
   "execution_count": 36,
   "metadata": {},
   "outputs": [
    {
     "name": "stdout",
     "output_type": "stream",
     "text": [
      "Planning to send the MSG Take 0.5mg melatonin at 10:30pm today to help advance your sleep onset. to user +14157875337 on 2023-10-12T22:00:00-04:00\n",
      "Planning to send the MSG Avoid caffeine after 3pm today to help ensure quality sleep. to user +14157875337 on 2023-10-12T15:00:00-04:00\n",
      "Planning to send the MSG Get outdoor light exposure in the morning to help anchor your circadian clock. to user +14157875337 on 2023-10-12T08:00:00-04:00\n",
      "Planning to send the MSG Do some light exercise like walking between 5-7pm today to help with your sleep rhythm. to user +14157875337 on 2023-10-12T17:00:00-04:00\n"
     ]
    },
    {
     "data": {
      "text/plain": [
       "{'input': 'Hello! I am flying from NYC to Toronto, departure is tomorrow at 06:30, and arrival is at 14:10',\n",
       " 'output': 'Hi Kevin, for your flight from NYC to Toronto tomorrow, here are my recommendations for optimizing your sleep and alertness today:\\n\\n🌞 **Take 0.5mg melatonin at 10:30pm** to help advance your sleep onset (Reminder set for 10:00pm).\\n☕ **Avoid caffeine after 3pm** today to help ensure quality sleep (Reminder set for 3:00pm).\\n🌇 **Get outdoor light exposure in the morning** to help anchor your circadian clock (Reminder set for 8:00am).\\n🚶\\u200d♂️ **Do some light exercise like walking between 5-7pm** today to help with your sleep rhythm (Reminder set for 5:00pm).\\n\\nThese steps should help gradually shift your sleep-wake cycle ahead before your trip. Have a safe flight and excellent sleep!'}"
      ]
     },
     "execution_count": 36,
     "metadata": {},
     "output_type": "execute_result"
    }
   ],
   "source": [
    "messages = app.invoke({\"messages\": [(\"human\", input)]}, config)\n",
    "{\n",
    "    \"input\": input,\n",
    "    \"output\": messages[\"messages\"][-1].content,\n",
    "}"
   ]
  }
 ],
 "metadata": {
  "kernelspec": {
   "display_name": "eval_harness",
   "language": "python",
   "name": "python3"
  },
  "language_info": {
   "codemirror_mode": {
    "name": "ipython",
    "version": 3
   },
   "file_extension": ".py",
   "mimetype": "text/x-python",
   "name": "python",
   "nbconvert_exporter": "python",
   "pygments_lexer": "ipython3",
   "version": "3.9.18"
  }
 },
 "nbformat": 4,
 "nbformat_minor": 2
}
